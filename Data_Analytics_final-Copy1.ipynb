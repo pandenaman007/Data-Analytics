{
 "cells": [
  {
   "cell_type": "code",
   "execution_count": null,
   "id": "208338ec",
   "metadata": {},
   "outputs": [],
   "source": [
    "df['Rent']=np.log1p(df['Rent'])\n"
   ]
  },
  {
   "cell_type": "code",
   "execution_count": 1,
   "id": "bf01bc85",
   "metadata": {},
   "outputs": [
    {
     "ename": "NameError",
     "evalue": "name 'sns' is not defined",
     "output_type": "error",
     "traceback": [
      "\u001b[1;31m---------------------------------------------------------------------------\u001b[0m",
      "\u001b[1;31mNameError\u001b[0m                                 Traceback (most recent call last)",
      "Input \u001b[1;32mIn [1]\u001b[0m, in \u001b[0;36m<cell line: 1>\u001b[1;34m()\u001b[0m\n\u001b[1;32m----> 1\u001b[0m \u001b[43msns\u001b[49m\u001b[38;5;241m.\u001b[39mboxplot(\u001b[38;5;124m'\u001b[39m\u001b[38;5;124mRent\u001b[39m\u001b[38;5;124m'\u001b[39m,data\u001b[38;5;241m=\u001b[39mdf)\n",
      "\u001b[1;31mNameError\u001b[0m: name 'sns' is not defined"
     ]
    }
   ],
   "source": [
    "sns.boxplot('Rent',data=df)\n"
   ]
  },
  {
   "cell_type": "code",
   "execution_count": null,
   "id": "03b8045f",
   "metadata": {},
   "outputs": [],
   "source": [
    "df['Posted On'].nunique()"
   ]
  },
  {
   "cell_type": "code",
   "execution_count": null,
   "id": "77f7479f",
   "metadata": {},
   "outputs": [],
   "source": [
    "plt.figure(figsize=(15,10))\n",
    "sns.histplot(df['Posted On'])\n",
    "plt.xticks(rotation='vertical')\n",
    "plt.show()"
   ]
  },
  {
   "cell_type": "code",
   "execution_count": null,
   "id": "8550198f",
   "metadata": {},
   "outputs": [],
   "source": [
    "#Analyzing the BHK column\n",
    "df.BHK.unique()"
   ]
  },
  {
   "cell_type": "code",
   "execution_count": null,
   "id": "6d519192",
   "metadata": {},
   "outputs": [],
   "source": [
    "sns.barplot(x='BHK',y='Rent',data=df)"
   ]
  },
  {
   "cell_type": "code",
   "execution_count": null,
   "id": "9b987976",
   "metadata": {},
   "outputs": [],
   "source": [
    "plt.figure(figsize=(7,5))\n",
    "sns.boxplot(x='BHK',y='Rent',data=df)\n",
    "plt.show()"
   ]
  },
  {
   "cell_type": "code",
   "execution_count": null,
   "id": "a8446f92",
   "metadata": {},
   "outputs": [],
   "source": [
    "for i in range(6):\n",
    "    sns.histplot(df[df['BHK']==i+1].Rent)\n",
    "    plt.show()\n"
   ]
  },
  {
   "cell_type": "code",
   "execution_count": null,
   "id": "3650d67a",
   "metadata": {},
   "outputs": [],
   "source": [
    "### Each BHK contains a lot of Outliers.###"
   ]
  },
  {
   "cell_type": "code",
   "execution_count": 2,
   "id": "98756eab",
   "metadata": {},
   "outputs": [
    {
     "ename": "NameError",
     "evalue": "name 'df' is not defined",
     "output_type": "error",
     "traceback": [
      "\u001b[1;31m---------------------------------------------------------------------------\u001b[0m",
      "\u001b[1;31mNameError\u001b[0m                                 Traceback (most recent call last)",
      "Input \u001b[1;32mIn [2]\u001b[0m, in \u001b[0;36m<cell line: 1>\u001b[1;34m()\u001b[0m\n\u001b[1;32m----> 1\u001b[0m \u001b[43mdf\u001b[49m[\u001b[38;5;124m'\u001b[39m\u001b[38;5;124mSize\u001b[39m\u001b[38;5;124m'\u001b[39m]\u001b[38;5;241m.\u001b[39mnunique()\n",
      "\u001b[1;31mNameError\u001b[0m: name 'df' is not defined"
     ]
    }
   ],
   "source": [
    "\n",
    "df['Size'].nunique()"
   ]
  },
  {
   "cell_type": "code",
   "execution_count": null,
   "id": "ab5b45fb",
   "metadata": {},
   "outputs": [],
   "source": [
    "#Distribution of Size column\n",
    "sns.histplot(df.Size)"
   ]
  },
  {
   "cell_type": "code",
   "execution_count": null,
   "id": "2625b3d9",
   "metadata": {},
   "outputs": [],
   "source": [
    "plt.figure(figsize=(5,5))\n",
    "sns.scatterplot(x=df.Size,y=df.Rent)\n",
    "plt.show()"
   ]
  },
  {
   "cell_type": "code",
   "execution_count": null,
   "id": "b342afb0",
   "metadata": {},
   "outputs": [],
   "source": [
    "sns.boxplot('Size',data=df)"
   ]
  },
  {
   "cell_type": "code",
   "execution_count": null,
   "id": "439b3901",
   "metadata": {},
   "outputs": [],
   "source": [
    "### More the Size of House,More the Rent is Contains a lot of Outliers."
   ]
  },
  {
   "cell_type": "code",
   "execution_count": null,
   "id": "711f2e30",
   "metadata": {},
   "outputs": [],
   "source": [
    "#Analyzing the Floor Column\n",
    "df.Floor.value_counts()"
   ]
  },
  {
   "cell_type": "code",
   "execution_count": null,
   "id": "57934e91",
   "metadata": {},
   "outputs": [],
   "source": [
    "#Analyzing the Area Type\n",
    "df['Area Type'].value_counts()"
   ]
  },
  {
   "cell_type": "code",
   "execution_count": null,
   "id": "b1cc5b11",
   "metadata": {},
   "outputs": [],
   "source": [
    "sns.countplot('Area Type',data=df)"
   ]
  },
  {
   "cell_type": "code",
   "execution_count": null,
   "id": "bfacd281",
   "metadata": {},
   "outputs": [],
   "source": [
    "### The no. of Super Area is higher than all of the areas.Built Area contains only two houses for Rent in the Dataset"
   ]
  },
  {
   "cell_type": "code",
   "execution_count": null,
   "id": "a1f2f13c",
   "metadata": {},
   "outputs": [],
   "source": [
    "df.groupby('Area Type')['Rent'].mean()"
   ]
  },
  {
   "cell_type": "code",
   "execution_count": null,
   "id": "638236ed",
   "metadata": {},
   "outputs": [],
   "source": [
    "\n",
    "sns.barplot(df['Area Type'],y=df['Rent'])"
   ]
  },
  {
   "cell_type": "code",
   "execution_count": null,
   "id": "10fb8b9a",
   "metadata": {},
   "outputs": [],
   "source": [
    "### Built Area Houses are the Cheapest.Super Area Houses are cheaper as compared to Carpet Area."
   ]
  },
  {
   "cell_type": "code",
   "execution_count": null,
   "id": "0b6f7954",
   "metadata": {},
   "outputs": [],
   "source": [
    "#Analyzing the Area Locality\n",
    "df['Area Locality'].value_counts()"
   ]
  },
  {
   "cell_type": "code",
   "execution_count": null,
   "id": "9ee069d2",
   "metadata": {},
   "outputs": [],
   "source": [
    "#Analyzing the City Column\n",
    "df['City'].value_counts()"
   ]
  },
  {
   "cell_type": "code",
   "execution_count": null,
   "id": "f8386ebf",
   "metadata": {},
   "outputs": [],
   "source": [
    "sns.countplot(df.City)"
   ]
  },
  {
   "cell_type": "code",
   "execution_count": null,
   "id": "a1a750af",
   "metadata": {},
   "outputs": [],
   "source": [
    "df.groupby('City')['Rent'].mean()"
   ]
  },
  {
   "cell_type": "code",
   "execution_count": null,
   "id": "0597c3af",
   "metadata": {},
   "outputs": [],
   "source": [
    "### The Average Rent of Mumbai House is the Highest than all of the Cities."
   ]
  },
  {
   "cell_type": "code",
   "execution_count": null,
   "id": "459992ba",
   "metadata": {},
   "outputs": [],
   "source": [
    "sns.boxplot('City','Rent',data=df)"
   ]
  },
  {
   "cell_type": "code",
   "execution_count": null,
   "id": "01767785",
   "metadata": {},
   "outputs": [],
   "source": [
    "#Analyzing the Furnishing Status\n",
    "df['Furnishing Status'].value_counts()"
   ]
  },
  {
   "cell_type": "code",
   "execution_count": null,
   "id": "66f393e4",
   "metadata": {},
   "outputs": [],
   "source": [
    "###50% of the Houses are Semi Furnished.\n",
    "###40% of the Houses are Unfurnished.\n",
    "###Rest of the Houses are Furnished."
   ]
  },
  {
   "cell_type": "code",
   "execution_count": null,
   "id": "070421ca",
   "metadata": {},
   "outputs": [],
   "source": [
    "df.groupby('Furnishing Status')['Rent'].mean()"
   ]
  },
  {
   "cell_type": "code",
   "execution_count": null,
   "id": "1bfc3a37",
   "metadata": {},
   "outputs": [],
   "source": [
    "sns.barplot('Furnishing Status','Rent',data=df)"
   ]
  },
  {
   "cell_type": "code",
   "execution_count": null,
   "id": "4f3b04ad",
   "metadata": {},
   "outputs": [],
   "source": [
    "#Analyzing the Tenant Preferred\n",
    "df['Tenant Preferred'].value_counts()"
   ]
  },
  {
   "cell_type": "code",
   "execution_count": null,
   "id": "b137904b",
   "metadata": {},
   "outputs": [],
   "source": [
    "sns.barplot('Tenant Preferred','Rent',data=df)"
   ]
  },
  {
   "cell_type": "code",
   "execution_count": null,
   "id": "46489489",
   "metadata": {},
   "outputs": [],
   "source": [
    "#Analyzing the Bathroom Column\n",
    "df['Bathroom'].value_counts()"
   ]
  },
  {
   "cell_type": "code",
   "execution_count": null,
   "id": "cd4f5855",
   "metadata": {},
   "outputs": [],
   "source": [
    "sns.countplot('Bathroom',data=df)"
   ]
  },
  {
   "cell_type": "code",
   "execution_count": null,
   "id": "ddaf1643",
   "metadata": {},
   "outputs": [],
   "source": [
    "sns.barplot('Bathroom','Rent',data=df)"
   ]
  },
  {
   "cell_type": "code",
   "execution_count": null,
   "id": "81ddcca7",
   "metadata": {},
   "outputs": [],
   "source": [
    "#Analyzing the Point of contact Column\n",
    "df['Point of Contact'].value_counts()"
   ]
  },
  {
   "cell_type": "code",
   "execution_count": null,
   "id": "064020f7",
   "metadata": {},
   "outputs": [],
   "source": [
    "sns.barplot('Point of Contact','Rent',data=df)"
   ]
  },
  {
   "cell_type": "code",
   "execution_count": null,
   "id": "0578aaa9",
   "metadata": {},
   "outputs": [],
   "source": [
    "df.describe()"
   ]
  },
  {
   "cell_type": "code",
   "execution_count": null,
   "id": "3f07f94f",
   "metadata": {},
   "outputs": [],
   "source": [
    "for i in range (df['City'].count()+1):\n",
    "    for j in range(df['Area Locality'].count()+1):\n",
    "        print(df['Rent'].max(),df['Area Locality'])"
   ]
  },
  {
   "cell_type": "code",
   "execution_count": null,
   "id": "4f46def1",
   "metadata": {},
   "outputs": [],
   "source": [
    "print(df['Rent']"
   ]
  },
  {
   "cell_type": "code",
   "execution_count": null,
   "id": "8328259c",
   "metadata": {},
   "outputs": [],
   "source": [
    "for i in range(count(Area locality)+1):\n",
    "    df['Rent'].max()"
   ]
  },
  {
   "cell_type": "code",
   "execution_count": null,
   "id": "c2c14ba7",
   "metadata": {},
   "outputs": [],
   "source": [
    "sns.distplot(df['Rent'])"
   ]
  },
  {
   "cell_type": "code",
   "execution_count": null,
   "id": "01379a8d",
   "metadata": {},
   "outputs": [],
   "source": [
    "sns.heatmap(df.corr(), annot=True)"
   ]
  },
  {
   "cell_type": "code",
   "execution_count": 3,
   "id": "546f06ad",
   "metadata": {},
   "outputs": [
    {
     "ename": "NameError",
     "evalue": "name 'df' is not defined",
     "output_type": "error",
     "traceback": [
      "\u001b[1;31m---------------------------------------------------------------------------\u001b[0m",
      "\u001b[1;31mNameError\u001b[0m                                 Traceback (most recent call last)",
      "Input \u001b[1;32mIn [3]\u001b[0m, in \u001b[0;36m<cell line: 1>\u001b[1;34m()\u001b[0m\n\u001b[1;32m----> 1\u001b[0m \u001b[43mdf\u001b[49m\u001b[38;5;241m.\u001b[39minfo()\n",
      "\u001b[1;31mNameError\u001b[0m: name 'df' is not defined"
     ]
    }
   ],
   "source": [
    "df.info()"
   ]
  },
  {
   "cell_type": "code",
   "execution_count": null,
   "id": "19ccfbb5",
   "metadata": {},
   "outputs": [],
   "source": [
    "X =df[['BHK','Size', 'Bathroom']]\n",
    "\n",
    "y = df['Rent']"
   ]
  },
  {
   "cell_type": "code",
   "execution_count": null,
   "id": "496a48ab",
   "metadata": {},
   "outputs": [],
   "source": [
    "from sklearn.model_selection import train_test_split\n",
    "\n",
    "X_train, X_test, y_train, y_test = train_test_split(X, y, test_size=0.5, random_state=10) "
   ]
  },
  {
   "cell_type": "code",
   "execution_count": null,
   "id": "587125ed",
   "metadata": {},
   "outputs": [],
   "source": [
    "from sklearn.linear_model import LinearRegression \n",
    "\n",
    "lm = LinearRegression() \n",
    "\n",
    "lm.fit(X_train,y_train) \n",
    "lm= LinearRegression().fit(X_train,y_train)"
   ]
  },
  {
   "cell_type": "code",
   "execution_count": null,
   "id": "1fc057bd",
   "metadata": {},
   "outputs": [],
   "source": [
    "print(lm.intercept_)"
   ]
  },
  {
   "cell_type": "code",
   "execution_count": null,
   "id": "49d720e9",
   "metadata": {},
   "outputs": [],
   "source": [
    "predictions = lm.predict(X_test)  "
   ]
  },
  {
   "cell_type": "code",
   "execution_count": null,
   "id": "48b732db",
   "metadata": {},
   "outputs": [],
   "source": [
    "plt.scatter(y_test,predictions)"
   ]
  },
  {
   "cell_type": "code",
   "execution_count": null,
   "id": "9d548b30",
   "metadata": {},
   "outputs": [],
   "source": [
    "sns.distplot((y_test-predictions),bins=50); "
   ]
  },
  {
   "cell_type": "code",
   "execution_count": null,
   "id": "ec9a4579",
   "metadata": {},
   "outputs": [],
   "source": [
    "from sklearn import metrics\n",
    "\n",
    "print('MAE:', metrics.mean_absolute_error(y_test, predictions)) \n",
    "print('MSE:', metrics.mean_squared_error(y_test, predictions)) \n",
    "print('RMSE:', np.sqrt(metrics.mean_squared_error(y_test, predictions)))"
   ]
  },
  {
   "cell_type": "code",
   "execution_count": null,
   "id": "06f56ac5",
   "metadata": {},
   "outputs": [],
   "source": [
    " y_pred = lm.predict(X_train)"
   ]
  },
  {
   "cell_type": "code",
   "execution_count": null,
   "id": "d1773729",
   "metadata": {},
   "outputs": [],
   "source": [
    "print(f\"predicted response:\\n{y_pred}\")"
   ]
  },
  {
   "cell_type": "code",
   "execution_count": null,
   "id": "00d3d026",
   "metadata": {},
   "outputs": [],
   "source": [
    "y_pred = lm.intercept_ + lm.coef_ * X_train\n",
    "print(f\"predicted response:\\n{y_pred}\")"
   ]
  },
  {
   "cell_type": "code",
   "execution_count": null,
   "id": "1b5f9750",
   "metadata": {},
   "outputs": [],
   "source": []
  },
  {
   "cell_type": "code",
   "execution_count": null,
   "id": "2378ef08",
   "metadata": {},
   "outputs": [],
   "source": []
  },
  {
   "cell_type": "code",
   "execution_count": null,
   "id": "1353218f",
   "metadata": {},
   "outputs": [],
   "source": []
  },
  {
   "cell_type": "code",
   "execution_count": null,
   "id": "17bf0d19",
   "metadata": {},
   "outputs": [],
   "source": []
  },
  {
   "cell_type": "code",
   "execution_count": null,
   "id": "f33bb358",
   "metadata": {},
   "outputs": [],
   "source": []
  },
  {
   "cell_type": "code",
   "execution_count": null,
   "id": "051d6697",
   "metadata": {},
   "outputs": [],
   "source": []
  },
  {
   "cell_type": "code",
   "execution_count": null,
   "id": "e86060c3",
   "metadata": {},
   "outputs": [],
   "source": []
  },
  {
   "cell_type": "code",
   "execution_count": null,
   "id": "e8eb1dc7",
   "metadata": {},
   "outputs": [],
   "source": []
  },
  {
   "cell_type": "code",
   "execution_count": null,
   "id": "cad35b14",
   "metadata": {},
   "outputs": [],
   "source": []
  }
 ],
 "metadata": {
  "kernelspec": {
   "display_name": "Python 3 (ipykernel)",
   "language": "python",
   "name": "python3"
  },
  "language_info": {
   "codemirror_mode": {
    "name": "ipython",
    "version": 3
   },
   "file_extension": ".py",
   "mimetype": "text/x-python",
   "name": "python",
   "nbconvert_exporter": "python",
   "pygments_lexer": "ipython3",
   "version": "3.9.12"
  }
 },
 "nbformat": 4,
 "nbformat_minor": 5
}
