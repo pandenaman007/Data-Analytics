{
 "cells": [
  {
   "cell_type": "code",
   "execution_count": null,
   "id": "208338ec",
   "metadata": {},
   "outputs": [],
   "source": [
    "df['Rent']=np.log1p(df['Rent'])\n"
   ]
  },
  {
   "cell_type": "code",
   "execution_count": 1,
   "id": "bf01bc85",
   "metadata": {},
   "outputs": [
    {
     "ename": "NameError",
     "evalue": "name 'sns' is not defined",
     "output_type": "error",
     "traceback": [
      "\u001b[1;31m---------------------------------------------------------------------------\u001b[0m",
      "\u001b[1;31mNameError\u001b[0m                                 Traceback (most recent call last)",
      "Input \u001b[1;32mIn [1]\u001b[0m, in \u001b[0;36m<cell line: 1>\u001b[1;34m()\u001b[0m\n\u001b[1;32m----> 1\u001b[0m \u001b[43msns\u001b[49m\u001b[38;5;241m.\u001b[39mboxplot(\u001b[38;5;124m'\u001b[39m\u001b[38;5;124mRent\u001b[39m\u001b[38;5;124m'\u001b[39m,data\u001b[38;5;241m=\u001b[39mdf)\n",
      "\u001b[1;31mNameError\u001b[0m: name 'sns' is not defined"
     ]
    }
   ],
   "source": [
    "sns.boxplot('Rent',data=df)\n"
   ]
  },
  {
   "cell_type": "code",
   "execution_count": null,
   "id": "1a4f8c1f",
   "metadata": {},
   "outputs": [],
   "source": [
    "df['Posted On'].nunique()"
   ]
  },
  {
   "cell_type": "code",
   "execution_count": null,
   "id": "556c4809",
   "metadata": {},
   "outputs": [],
   "source": [
    "plt.figure(figsize=(15,10))\n",
    "sns.histplot(df['Posted On'])\n",
    "plt.xticks(rotation='vertical')\n",
    "plt.show()"
   ]
  },
  {
   "cell_type": "code",
   "execution_count": null,
   "id": "ec449862",
   "metadata": {},
   "outputs": [],
   "source": [
    "#Analyzing the BHK column\n",
    "df.BHK.unique()"
   ]
  },
  {
   "cell_type": "code",
   "execution_count": null,
   "id": "5bbb8cd9",
   "metadata": {},
   "outputs": [],
   "source": [
    "sns.barplot(x='BHK',y='Rent',data=df)"
   ]
  },
  {
   "cell_type": "code",
   "execution_count": null,
   "id": "f40f5a99",
   "metadata": {},
   "outputs": [],
   "source": [
    "plt.figure(figsize=(7,5))\n",
    "sns.boxplot(x='BHK',y='Rent',data=df)\n",
    "plt.show()"
   ]
  },
  {
   "cell_type": "code",
   "execution_count": null,
   "id": "fafbe9ee",
   "metadata": {},
   "outputs": [],
   "source": [
    "for i in range(6):\n",
    "    sns.histplot(df[df['BHK']==i+1].Rent)\n",
    "    plt.show()\n"
   ]
  },
  {
   "cell_type": "code",
   "execution_count": null,
   "id": "be0091d6",
   "metadata": {},
   "outputs": [],
   "source": [
    "### Each BHK contains a lot of Outliers.###"
   ]
  },
  {
   "cell_type": "code",
   "execution_count": 2,
   "id": "9b1f79c1",
   "metadata": {},
   "outputs": [
    {
     "ename": "NameError",
     "evalue": "name 'df' is not defined",
     "output_type": "error",
     "traceback": [
      "\u001b[1;31m---------------------------------------------------------------------------\u001b[0m",
      "\u001b[1;31mNameError\u001b[0m                                 Traceback (most recent call last)",
      "Input \u001b[1;32mIn [2]\u001b[0m, in \u001b[0;36m<cell line: 1>\u001b[1;34m()\u001b[0m\n\u001b[1;32m----> 1\u001b[0m \u001b[43mdf\u001b[49m[\u001b[38;5;124m'\u001b[39m\u001b[38;5;124mSize\u001b[39m\u001b[38;5;124m'\u001b[39m]\u001b[38;5;241m.\u001b[39mnunique()\n",
      "\u001b[1;31mNameError\u001b[0m: name 'df' is not defined"
     ]
    }
   ],
   "source": [
    "\n",
    "df['Size'].nunique()"
   ]
  },
  {
   "cell_type": "code",
   "execution_count": null,
   "id": "6ca03934",
   "metadata": {},
   "outputs": [],
   "source": [
    "#Distribution of Size column\n",
    "sns.histplot(df.Size)"
   ]
  },
  {
   "cell_type": "code",
   "execution_count": null,
   "id": "784cc807",
   "metadata": {},
   "outputs": [],
   "source": [
    "plt.figure(figsize=(5,5))\n",
    "sns.scatterplot(x=df.Size,y=df.Rent)\n",
    "plt.show()"
   ]
  },
  {
   "cell_type": "code",
   "execution_count": null,
   "id": "c536f35d",
   "metadata": {},
   "outputs": [],
   "source": [
    "sns.boxplot('Size',data=df)"
   ]
  },
  {
   "cell_type": "code",
   "execution_count": null,
   "id": "86362f59",
   "metadata": {},
   "outputs": [],
   "source": [
    "### More the Size of House,More the Rent is Contains a lot of Outliers."
   ]
  },
  {
   "cell_type": "code",
   "execution_count": null,
   "id": "74ee565d",
   "metadata": {},
   "outputs": [],
   "source": [
    "#Analyzing the Floor Column\n",
    "df.Floor.value_counts()"
   ]
  },
  {
   "cell_type": "code",
   "execution_count": null,
   "id": "3d6e5673",
   "metadata": {},
   "outputs": [],
   "source": [
    "#Analyzing the Area Type\n",
    "df['Area Type'].value_counts()"
   ]
  },
  {
   "cell_type": "code",
   "execution_count": null,
   "id": "304b11e5",
   "metadata": {},
   "outputs": [],
   "source": [
    "sns.countplot('Area Type',data=df)"
   ]
  },
  {
   "cell_type": "code",
   "execution_count": null,
   "id": "b1c47f33",
   "metadata": {},
   "outputs": [],
   "source": [
    "### The no. of Super Area is higher than all of the areas.Built Area contains only two houses for Rent in the Dataset"
   ]
  },
  {
   "cell_type": "code",
   "execution_count": null,
   "id": "8e28b9bc",
   "metadata": {},
   "outputs": [],
   "source": [
    "df.groupby('Area Type')['Rent'].mean()"
   ]
  },
  {
   "cell_type": "code",
   "execution_count": null,
   "id": "6983262a",
   "metadata": {},
   "outputs": [],
   "source": [
    "\n",
    "sns.barplot(df['Area Type'],y=df['Rent'])"
   ]
  },
  {
   "cell_type": "code",
   "execution_count": null,
   "id": "3e3da0aa",
   "metadata": {},
   "outputs": [],
   "source": [
    "### Built Area Houses are the Cheapest.Super Area Houses are cheaper as compared to Carpet Area."
   ]
  },
  {
   "cell_type": "code",
   "execution_count": null,
   "id": "1f83885d",
   "metadata": {},
   "outputs": [],
   "source": [
    "#Analyzing the Area Locality\n",
    "df['Area Locality'].value_counts()"
   ]
  },
  {
   "cell_type": "code",
   "execution_count": null,
   "id": "fbdf352e",
   "metadata": {},
   "outputs": [],
   "source": [
    "#Analyzing the City Column\n",
    "df['City'].value_counts()"
   ]
  },
  {
   "cell_type": "code",
   "execution_count": null,
   "id": "13e3c36f",
   "metadata": {},
   "outputs": [],
   "source": [
    "sns.countplot(df.City)"
   ]
  },
  {
   "cell_type": "code",
   "execution_count": null,
   "id": "4dd99665",
   "metadata": {},
   "outputs": [],
   "source": [
    "df.groupby('City')['Rent'].mean()"
   ]
  },
  {
   "cell_type": "code",
   "execution_count": null,
   "id": "d88cd8de",
   "metadata": {},
   "outputs": [],
   "source": [
    "### The Average Rent of Mumbai House is the Highest than all of the Cities."
   ]
  },
  {
   "cell_type": "code",
   "execution_count": null,
   "id": "dc1d8ff0",
   "metadata": {},
   "outputs": [],
   "source": [
    "sns.boxplot('City','Rent',data=df)"
   ]
  },
  {
   "cell_type": "code",
   "execution_count": null,
   "id": "36b3b663",
   "metadata": {},
   "outputs": [],
   "source": [
    "#Analyzing the Furnishing Status\n",
    "df['Furnishing Status'].value_counts()"
   ]
  },
  {
   "cell_type": "code",
   "execution_count": null,
   "id": "13e94afe",
   "metadata": {},
   "outputs": [],
   "source": [
    "###50% of the Houses are Semi Furnished.\n",
    "###40% of the Houses are Unfurnished.\n",
    "###Rest of the Houses are Furnished."
   ]
  },
  {
   "cell_type": "code",
   "execution_count": null,
   "id": "d515519b",
   "metadata": {},
   "outputs": [],
   "source": [
    "df.groupby('Furnishing Status')['Rent'].mean()"
   ]
  },
  {
   "cell_type": "code",
   "execution_count": null,
   "id": "c88e73f7",
   "metadata": {},
   "outputs": [],
   "source": [
    "sns.barplot('Furnishing Status','Rent',data=df)"
   ]
  },
  {
   "cell_type": "code",
   "execution_count": null,
   "id": "ae310ba3",
   "metadata": {},
   "outputs": [],
   "source": [
    "#Analyzing the Tenant Preferred\n",
    "df['Tenant Preferred'].value_counts()"
   ]
  },
  {
   "cell_type": "code",
   "execution_count": null,
   "id": "dc819916",
   "metadata": {},
   "outputs": [],
   "source": [
    "sns.barplot('Tenant Preferred','Rent',data=df)"
   ]
  },
  {
   "cell_type": "code",
   "execution_count": null,
   "id": "3a91ad78",
   "metadata": {},
   "outputs": [],
   "source": [
    "#Analyzing the Bathroom Column\n",
    "df['Bathroom'].value_counts()"
   ]
  },
  {
   "cell_type": "code",
   "execution_count": null,
   "id": "53f7df68",
   "metadata": {},
   "outputs": [],
   "source": [
    "sns.countplot('Bathroom',data=df)"
   ]
  },
  {
   "cell_type": "code",
   "execution_count": null,
   "id": "f1370067",
   "metadata": {},
   "outputs": [],
   "source": [
    "sns.barplot('Bathroom','Rent',data=df)"
   ]
  },
  {
   "cell_type": "code",
   "execution_count": null,
   "id": "76c88a30",
   "metadata": {},
   "outputs": [],
   "source": [
    "#Analyzing the Point of contact Column\n",
    "df['Point of Contact'].value_counts()"
   ]
  },
  {
   "cell_type": "code",
   "execution_count": null,
   "id": "439a493b",
   "metadata": {},
   "outputs": [],
   "source": [
    "sns.barplot('Point of Contact','Rent',data=df)"
   ]
  },
  {
   "cell_type": "code",
   "execution_count": null,
   "id": "fb8d66d2",
   "metadata": {},
   "outputs": [],
   "source": [
    "df.describe()"
   ]
  },
  {
   "cell_type": "code",
   "execution_count": null,
   "id": "88148847",
   "metadata": {},
   "outputs": [],
   "source": [
    "for i in range (df['City'].count()+1):\n",
    "    for j in range(df['Area Locality'].count()+1):\n",
    "        print(df['Rent'].max(),df['Area Locality'])"
   ]
  },
  {
   "cell_type": "code",
   "execution_count": null,
   "id": "069fdd94",
   "metadata": {},
   "outputs": [],
   "source": [
    "print(df['Rent']"
   ]
  },
  {
   "cell_type": "code",
   "execution_count": null,
   "id": "a9867f3f",
   "metadata": {},
   "outputs": [],
   "source": [
    "for i in range(count(Area locality)+1):\n",
    "    df['Rent'].max()"
   ]
  },
  {
   "cell_type": "code",
   "execution_count": null,
   "id": "44850742",
   "metadata": {},
   "outputs": [],
   "source": [
    "sns.distplot(df['Rent'])"
   ]
  },
  {
   "cell_type": "code",
   "execution_count": null,
   "id": "a54da407",
   "metadata": {},
   "outputs": [],
   "source": [
    "sns.heatmap(df.corr(), annot=True)"
   ]
  },
  {
   "cell_type": "code",
   "execution_count": 3,
   "id": "8fddb75f",
   "metadata": {},
   "outputs": [
    {
     "ename": "NameError",
     "evalue": "name 'df' is not defined",
     "output_type": "error",
     "traceback": [
      "\u001b[1;31m---------------------------------------------------------------------------\u001b[0m",
      "\u001b[1;31mNameError\u001b[0m                                 Traceback (most recent call last)",
      "Input \u001b[1;32mIn [3]\u001b[0m, in \u001b[0;36m<cell line: 1>\u001b[1;34m()\u001b[0m\n\u001b[1;32m----> 1\u001b[0m \u001b[43mdf\u001b[49m\u001b[38;5;241m.\u001b[39minfo()\n",
      "\u001b[1;31mNameError\u001b[0m: name 'df' is not defined"
     ]
    }
   ],
   "source": [
    "df.info()"
   ]
  },
  {
   "cell_type": "code",
   "execution_count": null,
   "id": "8d1807c0",
   "metadata": {},
   "outputs": [],
   "source": [
    "X =df[['BHK','Size', 'Bathroom']]\n",
    "\n",
    "y = df['Rent']"
   ]
  },
  {
   "cell_type": "code",
   "execution_count": null,
   "id": "afb5f3e2",
   "metadata": {},
   "outputs": [],
   "source": [
    "from sklearn.model_selection import train_test_split\n",
    "\n",
    "X_train, X_test, y_train, y_test = train_test_split(X, y, test_size=0.5, random_state=10) "
   ]
  },
  {
   "cell_type": "code",
   "execution_count": null,
   "id": "1e627642",
   "metadata": {},
   "outputs": [],
   "source": [
    "from sklearn.linear_model import LinearRegression \n",
    "\n",
    "lm = LinearRegression() \n",
    "\n",
    "lm.fit(X_train,y_train) \n",
    "lm= LinearRegression().fit(X_train,y_train)"
   ]
  },
  {
   "cell_type": "code",
   "execution_count": null,
   "id": "1eefe3b4",
   "metadata": {},
   "outputs": [],
   "source": [
    "print(lm.intercept_)"
   ]
  },
  {
   "cell_type": "code",
   "execution_count": null,
   "id": "9b76ac4d",
   "metadata": {},
   "outputs": [],
   "source": [
    "predictions = lm.predict(X_test)  "
   ]
  },
  {
   "cell_type": "code",
   "execution_count": null,
   "id": "91242a2b",
   "metadata": {},
   "outputs": [],
   "source": [
    "plt.scatter(y_test,predictions)"
   ]
  },
  {
   "cell_type": "code",
   "execution_count": null,
   "id": "84658385",
   "metadata": {},
   "outputs": [],
   "source": [
    "sns.distplot((y_test-predictions),bins=50); "
   ]
  },
  {
   "cell_type": "code",
   "execution_count": null,
   "id": "da74c05d",
   "metadata": {},
   "outputs": [],
   "source": [
    "from sklearn import metrics\n",
    "\n",
    "print('MAE:', metrics.mean_absolute_error(y_test, predictions)) \n",
    "print('MSE:', metrics.mean_squared_error(y_test, predictions)) \n",
    "print('RMSE:', np.sqrt(metrics.mean_squared_error(y_test, predictions)))"
   ]
  },
  {
   "cell_type": "code",
   "execution_count": null,
   "id": "fa321bc9",
   "metadata": {},
   "outputs": [],
   "source": [
    " y_pred = lm.predict(X_train)"
   ]
  },
  {
   "cell_type": "code",
   "execution_count": null,
   "id": "04861c59",
   "metadata": {},
   "outputs": [],
   "source": [
    "print(f\"predicted response:\\n{y_pred}\")"
   ]
  },
  {
   "cell_type": "code",
   "execution_count": null,
   "id": "0b149763",
   "metadata": {},
   "outputs": [],
   "source": [
    "y_pred = lm.intercept_ + lm.coef_ * X_train\n",
    "print(f\"predicted response:\\n{y_pred}\")"
   ]
  },
  {
   "cell_type": "code",
   "execution_count": null,
   "id": "cfcf6c7e",
   "metadata": {},
   "outputs": [],
   "source": []
  },
  {
   "cell_type": "code",
   "execution_count": null,
   "id": "e81c9c8f",
   "metadata": {},
   "outputs": [],
   "source": []
  },
  {
   "cell_type": "code",
   "execution_count": null,
   "id": "0cb063b6",
   "metadata": {},
   "outputs": [],
   "source": []
  },
  {
   "cell_type": "code",
   "execution_count": null,
   "id": "5b4d621f",
   "metadata": {},
   "outputs": [],
   "source": []
  },
  {
   "cell_type": "code",
   "execution_count": null,
   "id": "1fbb4f98",
   "metadata": {},
   "outputs": [],
   "source": []
  },
  {
   "cell_type": "code",
   "execution_count": null,
   "id": "7eba26ff",
   "metadata": {},
   "outputs": [],
   "source": []
  },
  {
   "cell_type": "code",
   "execution_count": null,
   "id": "833987e0",
   "metadata": {},
   "outputs": [],
   "source": []
  },
  {
   "cell_type": "code",
   "execution_count": null,
   "id": "d10626ac",
   "metadata": {},
   "outputs": [],
   "source": []
  },
  {
   "cell_type": "code",
   "execution_count": null,
   "id": "e31487d5",
   "metadata": {},
   "outputs": [],
   "source": []
  }
 ],
 "metadata": {
  "kernelspec": {
   "display_name": "Python 3 (ipykernel)",
   "language": "python",
   "name": "python3"
  },
  "language_info": {
   "codemirror_mode": {
    "name": "ipython",
    "version": 3
   },
   "file_extension": ".py",
   "mimetype": "text/x-python",
   "name": "python",
   "nbconvert_exporter": "python",
   "pygments_lexer": "ipython3",
   "version": "3.9.12"
  }
 },
 "nbformat": 4,
 "nbformat_minor": 5
}
